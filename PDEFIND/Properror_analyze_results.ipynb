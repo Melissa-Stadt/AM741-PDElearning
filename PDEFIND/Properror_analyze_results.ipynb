{
  "nbformat": 4,
  "nbformat_minor": 0,
  "metadata": {
    "kernelspec": {
      "display_name": "Python 2",
      "language": "python",
      "name": "python2"
    },
    "language_info": {
      "codemirror_mode": {
        "name": "ipython",
        "version": 2
      },
      "file_extension": ".py",
      "mimetype": "text/x-python",
      "name": "python",
      "nbconvert_exporter": "python",
      "pygments_lexer": "ipython2",
      "version": "2.7.16"
    },
    "colab": {
      "name": "Properror analyze results.ipynb",
      "provenance": []
    }
  },
  "cells": [
    {
      "cell_type": "markdown",
      "metadata": {
        "id": "L5ZeAnlokRba"
      },
      "source": [
        "**AMATH 741 Final Project**\r\n",
        "\r\n",
        "Notebook adapted from https://github.com/biomathlab/PDElearning\r\n",
        "\r\n",
        "New data for project stored in https://github.com/Melissa-Stadt/AM741-PDElearning"
      ]
    },
    {
      "cell_type": "markdown",
      "metadata": {
        "id": "3mwQvy4VkgpQ"
      },
      "source": [
        "Clone git repository and move to correct directory"
      ]
    },
    {
      "cell_type": "code",
      "metadata": {
        "id": "S10ORXK1kRMy",
        "colab": {
          "base_uri": "https://localhost:8080/"
        },
        "outputId": "9b009087-f893-46a2-ad6f-a19b046f9808"
      },
      "source": [
        "!git clone https://github.com/Melissa-Stadt/AM741-PDElearning.git"
      ],
      "execution_count": null,
      "outputs": [
        {
          "output_type": "stream",
          "text": [
            "Cloning into 'AM741-PDElearning'...\n",
            "remote: Enumerating objects: 446, done.\u001b[K\n",
            "remote: Counting objects: 100% (446/446), done.\u001b[K\n",
            "remote: Compressing objects: 100% (264/264), done.\u001b[K\n",
            "remote: Total 446 (delta 219), reused 393 (delta 177), pack-reused 0\u001b[K\n",
            "Receiving objects: 100% (446/446), 52.38 MiB | 26.09 MiB/s, done.\n",
            "Resolving deltas: 100% (219/219), done.\n"
          ],
          "name": "stdout"
        }
      ]
    },
    {
      "cell_type": "code",
      "metadata": {
        "id": "_dp3Iu_7kkve",
        "colab": {
          "base_uri": "https://localhost:8080/"
        },
        "outputId": "d38e056e-d814-4a8b-cf41-346c43be7416"
      },
      "source": [
        "%cd AM741-PDElearning/PDEFIND/"
      ],
      "execution_count": null,
      "outputs": [
        {
          "output_type": "stream",
          "text": [
            "/content/AM741-PDElearning/PDEFIND\n"
          ],
          "name": "stdout"
        }
      ]
    },
    {
      "cell_type": "code",
      "metadata": {
        "id": "9SbkmiINkovB",
        "colab": {
          "base_uri": "https://localhost:8080/"
        },
        "outputId": "eb145295-4f09-417f-b4cc-67df214dacb5"
      },
      "source": [
        "!pip install statistics"
      ],
      "execution_count": null,
      "outputs": [
        {
          "output_type": "stream",
          "text": [
            "Collecting statistics\n",
            "  Downloading https://files.pythonhosted.org/packages/bb/3a/ae99a15e65636559d936dd2159d75af1619491e8cb770859fbc8aa62cef6/statistics-1.0.3.5.tar.gz\n",
            "Requirement already satisfied: docutils>=0.3 in /usr/local/lib/python2.7/dist-packages (from statistics) (0.14)\n",
            "Building wheels for collected packages: statistics\n",
            "  Building wheel for statistics (setup.py) ... \u001b[?25l\u001b[?25hdone\n",
            "  Created wheel for statistics: filename=statistics-1.0.3.5-cp27-none-any.whl size=7454 sha256=60f65fb3354311c50484fc3255f205e9164bbc5e699ed205782af42539dad720\n",
            "  Stored in directory: /root/.cache/pip/wheels/75/55/90/73aa7662bfb4565b567618547a275f01372a678ca92ecd64f3\n",
            "Successfully built statistics\n",
            "Installing collected packages: statistics\n",
            "Successfully installed statistics-1.0.3.5\n"
          ],
          "name": "stdout"
        }
      ]
    },
    {
      "cell_type": "code",
      "metadata": {
        "id": "eDXBZMWfkQeT"
      },
      "source": [
        "import numpy as np\n",
        "\n",
        "from mpl_toolkits.mplot3d import Axes3D\n",
        "import matplotlib as mpl\n",
        "import matplotlib.pyplot as plt\n",
        "from matplotlib import cm\n",
        "from matplotlib.ticker import LinearLocator, FormatStrFormatter\n",
        "\n",
        "from PDE_FIND2 import *\n",
        "from matplotlib.patches import Polygon\n",
        "import os\n",
        "import itertools\n",
        "import statistics\n",
        "import seaborn as sns\n",
        "import pandas as pd"
      ],
      "execution_count": null,
      "outputs": []
    },
    {
      "cell_type": "markdown",
      "metadata": {
        "id": "G0JXSb8xrjc9"
      },
      "source": [
        "**Melissa note:** I made some changes to what the filenames were set as since it seemed that my implementation of PDEFIND saved files under a different filename. I commented out a few lines which are listed below (Melissa is noted before them) which changed the filenames which allowed this python notebook to work.\r\n",
        "It seemed the figures turned out fine with this change but let me know if there are things that seem different or if you see why they had the original filenames there."
      ]
    },
    {
      "cell_type": "code",
      "metadata": {
        "id": "jlrjRvZknmmU",
        "colab": {
          "base_uri": "https://localhost:8080/",
          "height": 1000
        },
        "outputId": "c6624c7a-f8e4-4efc-a97e-25ca42a6e80b"
      },
      "source": [
        "#where data was written\r\n",
        "write_dir = 'pickle_data/'\r\n",
        "\r\n",
        "#math model\r\n",
        "#options are 'diffadv','fisher','fisher_nonlin'\r\n",
        "#model_str_list = ['diffadv','fisher','fisher_nonlin']\r\n",
        "model_str_list = ['fisher_nonlin']\r\n",
        "\r\n",
        "#noise levels that were considered\r\n",
        "data_files_1 = ['00_','01_','05_','10_','25_','50_']\r\n",
        "\r\n",
        "#other specs of implementation\r\n",
        "algoName = 'Greedy'\r\n",
        "shufMethod = 'bins'\r\n",
        "deg = 2\r\n",
        "\r\n",
        "#methods used for computation, as well as their abbreviations\r\n",
        "methods = ['finite_differences','splines','NCV_bisplines',\r\n",
        "           'global_NCV_bisplines_3','nn']\r\n",
        "method_strings = ['FD','LCVSP','LNCVSP','GNCVSP','ANN']\r\n",
        "\r\n",
        "for model_str in model_str_list:\r\n",
        "    #load in true equation form\r\n",
        "    if model_str == 'diffadv':\r\n",
        "        deriv_list = ['u_{xx}','u_{x}']\r\n",
        "    elif model_str == 'fisher':\r\n",
        "        deriv_list = ['u_{xx}','u','u^2']\r\n",
        "    elif model_str == 'fisher_nonlin':\r\n",
        "        deriv_list = ['uu_{xx}','u_{x}^2','u','u^2']\r\n",
        "\r\n",
        "    #initialize lists of the median TPR score\r\n",
        "    median_TPR = []\r\n",
        "    #vote for the equation form\r\n",
        "    xi_vote = []\r\n",
        "    #vote for each param individually\r\n",
        "    xi_vote_params = []\r\n",
        "\r\n",
        "    Make_df = True\r\n",
        "    for d in data_files_1:   \r\n",
        "        for j,m in enumerate(methods):\r\n",
        "\r\n",
        "            #load in data\r\n",
        "            # Melissa change (comment three lines because filenames seemed off)\r\n",
        "            #if 'NCV_bisplines' not in m:\r\n",
        "                #filename = write_dir + algoName + '_' +d+m+ '_' + shufMethod + '_'+model_str+'_prune_tv_5050_1_21_deg_' +str(deg)+ '.npz'\r\n",
        "            #else:\r\n",
        "            filename = write_dir + algoName + '_' +d+m+ '_' + shufMethod + '_'+model_str+'_prune_deg_' +str(deg)+ '.npz'\r\n",
        "            print filename\r\n",
        "            if os.path.isfile(filename):\r\n",
        "\r\n",
        "                #load in data\r\n",
        "                data = np.load(filename)\r\n",
        "                #compute median TPR without pruning\r\n",
        "                median_TPR_no_prune = []\r\n",
        "                #make list of TPR data without pruning\r\n",
        "                for i in np.arange(len(data['xi_list_no_prune'].tolist())):    \r\n",
        "                    median_TPR_no_prune.append(TP_TPFPFN(data['xi_list_no_prune'].tolist()[i],data['description'].tolist(),deriv_list))\r\n",
        "\r\n",
        "\r\n",
        "                #create data frame of TPR, method, and noise level\r\n",
        "                d_dict = {'TP':data['TP_score_list'].tolist(),'TPR_no_prune':median_TPR_no_prune\r\n",
        "                          ,'method':method_strings[j],'sigma':d[:2]}\r\n",
        "                df_new = pd.DataFrame(d_dict)\r\n",
        "                #create initial data frame if not yet existing, otherwise just append\r\n",
        "                if Make_df:\r\n",
        "                    df = df_new\r\n",
        "                    Make_df = False\r\n",
        "                else:\r\n",
        "                    df = df.append(df_new)\r\n",
        "\r\n",
        "                #calculate median TPR (after pruning) from data frame\r\n",
        "                median_TPR.append(statistics.median(data['TP_score_list'].tolist()))\r\n",
        "\r\n",
        "\r\n",
        "                # now determine the most-common equation\r\n",
        "                xi_vote_tmp = []\r\n",
        "                for i in range(len(data['xi_list'])):\r\n",
        "                    #convert nonzero entries of xi to a decimal number, signifying which equation\r\n",
        "                    #form we are voting for\r\n",
        "                    xi_vote_tmp.append(trans_rev((data['xi_list'][i] != 0)*1))\r\n",
        "                #append the most common equation form\r\n",
        "                xi_vote.append(most_common(xi_vote_tmp))\r\n",
        "\r\n",
        "                matrix_vote_initialized = False\r\n",
        "                #now generate parameter estimates from the most common equation form\r\n",
        "                #by looping back through each xi value. If it matches the most commonly\r\n",
        "                #chosen xi form, then we add its parameter estimates to the final list\r\n",
        "                #\r\n",
        "                # each column of A corresponds to one such xi estimate\r\n",
        "                # each row of A corresponds to different terms in A\r\n",
        "                for i in range(len(data['xi_list'])):\r\n",
        "                    xi_full = data['xi_list'][i]\r\n",
        "                    #if current xi matches most common xi\r\n",
        "                    if xi_vote[-1]==trans_rev(xi_full != 0)*1:\r\n",
        "                        if not matrix_vote_initialized:\r\n",
        "                            A = xi_full\r\n",
        "                            matrix_vote_initialized = True\r\n",
        "                        else:\r\n",
        "                            A = np.hstack((A,xi_full))\r\n",
        "                #take mean along columns of A to get param estimates\r\n",
        "                xi_vote_params.append(np.mean(A,axis=1))\r\n",
        "\r\n",
        "            #if file does not exist, just make everything empty\r\n",
        "            else:\r\n",
        "                d_dict = {'TP':[],'method':m,'sigma':d[:2]}\r\n",
        "                df_new = pd.DataFrame(d_dict)\r\n",
        "                df.append(df_new)\r\n",
        "\r\n",
        "                xi_vote.append([])\r\n",
        "                xi_vote_params.append([])\r\n",
        "                median_TPR.append(0)\r\n",
        "\r\n",
        "        \r\n",
        "    #make box and whisker plot for PDE-FIND with pruning\r\n",
        "\r\n",
        "    #fontsize\r\n",
        "    font = {'size': 15}\r\n",
        "    mpl.rc('font', **font)\r\n",
        "\r\n",
        "    #initialize figure\r\n",
        "    fig, ax = plt.subplots(figsize=(10,6))\r\n",
        "    ax = sns.boxplot(\r\n",
        "        x='sigma',\r\n",
        "        y='TP',\r\n",
        "        hue='method',\r\n",
        "        data=df)\r\n",
        "\r\n",
        "\r\n",
        "    plt.legend(loc='lower left')\r\n",
        "\r\n",
        "    #trick to plot the median scores on top of box plots (depends on length of method)\r\n",
        "    if len(methods) == 3:\r\n",
        "        plot_diff = 0.27\r\n",
        "        for i in np.arange(len(data_files_1)):\r\n",
        "            if i == 0:\r\n",
        "                median_xvec = np.array([-plot_diff,0,plot_diff])\r\n",
        "            else:\r\n",
        "                median_xvec = np.hstack([median_xvec,np.array([i-plot_diff,i,i+plot_diff])])\r\n",
        "            plt.plot(i+[.5,.5],[-10,10],'k',linewidth=0.25)\r\n",
        "        plt.plot(median_xvec,median_TPR,'bx')\r\n",
        "    elif len(methods)==2:\r\n",
        "        plot_diff = 0.2\r\n",
        "        for i in np.arange(len(data_files_1)):\r\n",
        "            if i == 0:\r\n",
        "                median_xvec = np.array([-plot_diff,plot_diff])\r\n",
        "            else:\r\n",
        "                median_xvec = np.hstack([median_xvec,np.array([i-plot_diff,i+plot_diff])])\r\n",
        "            plt.plot(i+[.5,.5],[-10,10],'k',linewidth=0.25)\r\n",
        "        plt.plot(median_xvec,median_TPR,'bx')\r\n",
        "    elif len(methods)==4:\r\n",
        "        plot_diff = 0.28\r\n",
        "        for i in np.arange(len(data_files_1)):\r\n",
        "            if i == 0:\r\n",
        "                median_xvec = np.array([-plot_diff,-plot_diff/2.0,plot_diff/2.0,plot_diff])\r\n",
        "            else:\r\n",
        "                median_xvec = np.hstack([median_xvec,np.array([i-plot_diff,i-plot_diff/2.0,i+plot_diff/2.0,i+plot_diff])])\r\n",
        "            plt.plot(i+[.5,.5],[-10,10],'k',linewidth=0.25)\r\n",
        "        plt.plot(median_xvec,median_TPR,'bx')\r\n",
        "    elif len(methods)==5:\r\n",
        "        plot_diff = 0.3\r\n",
        "        for i in np.arange(len(data_files_1)):\r\n",
        "            if i == 0:\r\n",
        "                median_xvec = np.array([-plot_diff,-plot_diff/2.0,0,plot_diff/2.0,plot_diff])\r\n",
        "            else:\r\n",
        "                median_xvec = np.hstack([median_xvec,np.array([i-plot_diff,i-plot_diff/2.0,i,i+plot_diff/2.0,i+plot_diff])])\r\n",
        "            plt.plot(i+[.5,.5],[-10,10],'k',linewidth=0.25)\r\n",
        "        plt.plot(median_xvec,median_TPR,'bx')\r\n",
        "\r\n",
        "\r\n",
        "    #loop through box plots and change line formatting and color\r\n",
        "    for j in range(len(ax.artists)):\r\n",
        "\r\n",
        "        #access box\r\n",
        "        box = ax.artists[j]\r\n",
        "        #box color\r\n",
        "        col = box.get_facecolor()\r\n",
        "        #set edge of box to be this color\r\n",
        "        box.set_edgecolor(col)\r\n",
        "        #set to white inside\r\n",
        "        box.set_facecolor('white')\r\n",
        "        #increase thickness\r\n",
        "        box.set_linewidth(3)\r\n",
        "\r\n",
        "        #update 6 lines of the box plot\r\n",
        "        for k in np.arange(6):\r\n",
        "            line = ax.lines[6*j+k]\r\n",
        "            line.set_color(col)\r\n",
        "            if k == 4:\r\n",
        "                #get rid of median line\r\n",
        "                line.set_linewidth(0)\r\n",
        "            else:\r\n",
        "                #increase thickness\r\n",
        "                line.set_linewidth(4)\r\n",
        "\r\n",
        "    #title\r\n",
        "    if model_str == 'diffadv':\r\n",
        "        title_str = \"PDE-FIND with pruning Results for the Diffusion-Advection Equation\"\r\n",
        "    elif model_str == 'fisher':\r\n",
        "        title_str = \"PDE-FIND with pruning Results for the Fisher-KPP Equation\"\r\n",
        "    elif model_str == 'fisher_nonlin':\r\n",
        "        title_str = \"PDE-FIND with pruning Results for the nonlinear Fisher-KPP Equation\"\r\n",
        "\r\n",
        "    ax.set_title(title_str,fontsize=18)\r\n",
        "    ax.set_ylabel(\"True Positive Ratio\",fontsize=18)\r\n",
        "    ax.set_xlabel(\"\")\r\n",
        "    plt.ylim((-1e-1,1+1e-1))\r\n",
        "\r\n",
        "    ax.set_xticklabels([\"$\\sigma$ = 0.00\",\"$\\sigma$ = 0.01\",\"$\\sigma$ = 0.05\",\r\n",
        "                        \"$\\sigma$ = 0.10\",\"$\\sigma$ = 0.25\",\"$\\sigma$ = 0.50\"])\r\n",
        "\r\n",
        "    plt.savefig(algoName + '_'+model_str+'_prop_' + shufMethod + '_pruning.eps', format='eps', dpi=1000)"
      ],
      "execution_count": null,
      "outputs": [
        {
          "output_type": "stream",
          "text": [
            "pickle_data/Greedy_00_finite_differences_bins_fisher_nonlin_prune_deg_2.npz\n",
            "pickle_data/Greedy_00_splines_bins_fisher_nonlin_prune_deg_2.npz\n",
            "pickle_data/Greedy_00_NCV_bisplines_bins_fisher_nonlin_prune_deg_2.npz\n",
            "pickle_data/Greedy_00_global_NCV_bisplines_3_bins_fisher_nonlin_prune_deg_2.npz\n",
            "pickle_data/Greedy_00_nn_bins_fisher_nonlin_prune_deg_2.npz\n"
          ],
          "name": "stdout"
        },
        {
          "output_type": "stream",
          "text": [
            "/usr/local/lib/python2.7/dist-packages/pandas/core/frame.py:6692: FutureWarning: Sorting because non-concatenation axis is not aligned. A future version\n",
            "of pandas will change to not sort by default.\n",
            "\n",
            "To accept the future behavior, pass 'sort=False'.\n",
            "\n",
            "To retain the current behavior and silence the warning, pass 'sort=True'.\n",
            "\n",
            "  sort=sort)\n"
          ],
          "name": "stderr"
        },
        {
          "output_type": "stream",
          "text": [
            "pickle_data/Greedy_01_finite_differences_bins_fisher_nonlin_prune_deg_2.npz\n",
            "pickle_data/Greedy_01_splines_bins_fisher_nonlin_prune_deg_2.npz\n",
            "pickle_data/Greedy_01_NCV_bisplines_bins_fisher_nonlin_prune_deg_2.npz\n",
            "pickle_data/Greedy_01_global_NCV_bisplines_3_bins_fisher_nonlin_prune_deg_2.npz\n",
            "pickle_data/Greedy_01_nn_bins_fisher_nonlin_prune_deg_2.npz\n",
            "pickle_data/Greedy_05_finite_differences_bins_fisher_nonlin_prune_deg_2.npz\n",
            "pickle_data/Greedy_05_splines_bins_fisher_nonlin_prune_deg_2.npz\n",
            "pickle_data/Greedy_05_NCV_bisplines_bins_fisher_nonlin_prune_deg_2.npz\n",
            "pickle_data/Greedy_05_global_NCV_bisplines_3_bins_fisher_nonlin_prune_deg_2.npz\n",
            "pickle_data/Greedy_05_nn_bins_fisher_nonlin_prune_deg_2.npz\n",
            "pickle_data/Greedy_10_finite_differences_bins_fisher_nonlin_prune_deg_2.npz\n",
            "pickle_data/Greedy_10_splines_bins_fisher_nonlin_prune_deg_2.npz\n",
            "pickle_data/Greedy_10_NCV_bisplines_bins_fisher_nonlin_prune_deg_2.npz\n",
            "pickle_data/Greedy_10_global_NCV_bisplines_3_bins_fisher_nonlin_prune_deg_2.npz\n",
            "pickle_data/Greedy_10_nn_bins_fisher_nonlin_prune_deg_2.npz\n",
            "pickle_data/Greedy_25_finite_differences_bins_fisher_nonlin_prune_deg_2.npz\n",
            "pickle_data/Greedy_25_splines_bins_fisher_nonlin_prune_deg_2.npz\n",
            "pickle_data/Greedy_25_NCV_bisplines_bins_fisher_nonlin_prune_deg_2.npz\n",
            "pickle_data/Greedy_25_global_NCV_bisplines_3_bins_fisher_nonlin_prune_deg_2.npz\n",
            "pickle_data/Greedy_25_nn_bins_fisher_nonlin_prune_deg_2.npz\n",
            "pickle_data/Greedy_50_finite_differences_bins_fisher_nonlin_prune_deg_2.npz\n",
            "pickle_data/Greedy_50_splines_bins_fisher_nonlin_prune_deg_2.npz\n",
            "pickle_data/Greedy_50_NCV_bisplines_bins_fisher_nonlin_prune_deg_2.npz\n",
            "pickle_data/Greedy_50_global_NCV_bisplines_3_bins_fisher_nonlin_prune_deg_2.npz\n",
            "pickle_data/Greedy_50_nn_bins_fisher_nonlin_prune_deg_2.npz\n"
          ],
          "name": "stdout"
        },
        {
          "output_type": "display_data",
          "data": {
            "image/png": "[encoded data removed]",
            "text/plain": [
              "<Figure size 720x432 with 1 Axes>"
            ]
          },
          "metadata": {
            "tags": [],
            "needs_background": "light"
          }
        }
      ]
    },
    {
      "cell_type": "markdown",
      "metadata": {
        "id": "xNyJl433tLSa"
      },
      "source": [
        "**Melissa question:** I think this next cell just adjusts the figure I think???"
      ]
    },
    {
      "cell_type": "code",
      "metadata": {
        "scrolled": false,
        "id": "t6Y63PSRkQea",
        "colab": {
          "base_uri": "https://localhost:8080/",
          "height": 400
        },
        "outputId": "54694bb1-2726-4de1-ba92-fafd9917190e"
      },
      "source": [
        "#make box and whisker plot for PDE-FIND with pruning\n",
        "\n",
        "#fontsize\n",
        "font = {'size': 15}\n",
        "mpl.rc('font', **font)\n",
        "\n",
        "#initialize figure\n",
        "fig, ax = plt.subplots(figsize=(10,6))\n",
        "ax = sns.boxplot(\n",
        "    x='sigma',\n",
        "    y='TP',\n",
        "    hue='method',\n",
        "    data=df)\n",
        "\n",
        "\n",
        "plt.legend(loc='lower left')\n",
        "\n",
        "#trick to plot the median scores on top of box plots (depends on length of method)\n",
        "if len(methods) == 3:\n",
        "    plot_diff = 0.27\n",
        "    for i in np.arange(len(data_files_1)):\n",
        "        if i == 0:\n",
        "            median_xvec = np.array([-plot_diff,0,plot_diff])\n",
        "        else:\n",
        "            median_xvec = np.hstack([median_xvec,np.array([i-plot_diff,i,i+plot_diff])])\n",
        "        plt.plot(i+[.5,.5],[-10,10],'k',linewidth=0.25)\n",
        "    plt.plot(median_xvec,median_TPR,'bx')\n",
        "elif len(methods)==2:\n",
        "    plot_diff = 0.2\n",
        "    for i in np.arange(len(data_files_1)):\n",
        "        if i == 0:\n",
        "            median_xvec = np.array([-plot_diff,plot_diff])\n",
        "        else:\n",
        "            median_xvec = np.hstack([median_xvec,np.array([i-plot_diff,i+plot_diff])])\n",
        "        plt.plot(i+[.5,.5],[-10,10],'k',linewidth=0.25)\n",
        "    plt.plot(median_xvec,median_TPR,'bx')\n",
        "elif len(methods)==4:\n",
        "    plot_diff = 0.28\n",
        "    for i in np.arange(len(data_files_1)):\n",
        "        if i == 0:\n",
        "            median_xvec = np.array([-plot_diff,-plot_diff/2.0,plot_diff/2.0,plot_diff])\n",
        "        else:\n",
        "            median_xvec = np.hstack([median_xvec,np.array([i-plot_diff,i-plot_diff/2.0,i+plot_diff/2.0,i+plot_diff])])\n",
        "        plt.plot(i+[.5,.5],[-10,10],'k',linewidth=0.25)\n",
        "    plt.plot(median_xvec,median_TPR,'bx')\n",
        "\n",
        "\n",
        "#loop through box plots and change line formatting and color\n",
        "for j in range(len(ax.artists)):\n",
        "    \n",
        "    #access box\n",
        "    box = ax.artists[j]\n",
        "    #box color\n",
        "    col = box.get_facecolor()\n",
        "    #set edge of box to be this color\n",
        "    box.set_edgecolor(col)\n",
        "    #set to white inside\n",
        "    box.set_facecolor('white')\n",
        "    #increase thickness\n",
        "    box.set_linewidth(3)\n",
        "    \n",
        "    #update 6 lines of the box plot\n",
        "    for k in np.arange(6):\n",
        "        line = ax.lines[6*j+k]\n",
        "        line.set_color(col)\n",
        "        if k == 4:\n",
        "            #get rid of median line\n",
        "            line.set_linewidth(0)\n",
        "        else:\n",
        "            #increase thickness\n",
        "            line.set_linewidth(4)\n",
        "            \n",
        "#title\n",
        "if model_str == 'diffadv':\n",
        "    title_str = \"PDE-FIND with pruning Results for the Diffusion-Advection Equation\"\n",
        "elif model_str == 'fisher':\n",
        "    title_str = \"PDE-FIND with pruning Results for the Fisher-KPP Equation\"\n",
        "elif model_str == 'fisher_nonlin':\n",
        "    title_str = \"PDE-FIND with pruning Results for the nonlinear Fisher-KPP Equation\"\n",
        "    \n",
        "ax.set_title(title_str,fontsize=18)\n",
        "ax.set_ylabel(\"True Positive Ratio\",fontsize=18)\n",
        "ax.set_xlabel(\"\")\n",
        "plt.ylim((-1e-1,1+1e-1))\n",
        "\n",
        "ax.set_xticklabels([\"$\\sigma$ = 0.00\",\"$\\sigma$ = 0.01\",\"$\\sigma$ = 0.05\",\n",
        "                    \"$\\sigma$ = 0.10\",\"$\\sigma$ = 0.25\",\"$\\sigma$ = 0.50\"])\n",
        "\n",
        "plt.savefig(algoName + '_'+model_str+'_prop_' + shufMethod + '_pruning.eps', format='eps', dpi=1000)"
      ],
      "execution_count": null,
      "outputs": [
        {
          "output_type": "display_data",
          "data": {
            "image/png": "[encoded data removed]",
            "text/plain": [
              "<Figure size 720x432 with 1 Axes>"
            ]
          },
          "metadata": {
            "tags": [],
            "needs_background": "light"
          }
        }
      ]
    },
    {
      "cell_type": "code",
      "metadata": {
        "id": "fYc_mx0KkQec"
      },
      "source": [
        ""
      ],
      "execution_count": null,
      "outputs": []
    }
  ]
}