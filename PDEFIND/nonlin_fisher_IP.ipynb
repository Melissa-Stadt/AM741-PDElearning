{
  "nbformat": 4,
  "nbformat_minor": 0,
  "metadata": {
    "kernelspec": {
      "display_name": "Python 2",
      "language": "python",
      "name": "python2"
    },
    "language_info": {
      "codemirror_mode": {
        "name": "ipython",
        "version": 2
      },
      "file_extension": ".py",
      "mimetype": "text/x-python",
      "name": "python",
      "nbconvert_exporter": "python",
      "pygments_lexer": "ipython2",
      "version": "2.7.14"
    },
    "colab": {
      "name": "nonlin_fisher_IP.ipynb",
      "provenance": []
    }
  },
  "cells": [
    {
      "cell_type": "markdown",
      "metadata": {
        "id": "Tz1BxJSBEvdC"
      },
      "source": [
        "**AMATH 741 Project**\n",
        "\n",
        "Adapted from https://github.com/biomathlab/PDElearning\n",
        "\n",
        "Data used located in https://github.com/Melissa-Stadt/AM741-PDElearning"
      ]
    },
    {
      "cell_type": "code",
      "metadata": {
        "id": "CnV8OOa5FAsC",
        "colab": {
          "base_uri": "https://localhost:8080/"
        },
        "outputId": "2c7cc9b4-6fd0-43b4-b05e-027d0a8c8238"
      },
      "source": [
        "# clone github\n",
        "!git clone https://github.com/Melissa-Stadt/AM741-PDElearning.git"
      ],
      "execution_count": null,
      "outputs": [
        {
          "output_type": "stream",
          "text": [
            "Cloning into 'AM741-PDElearning'...\n",
            "remote: Enumerating objects: 4, done.\u001b[K\n",
            "remote: Counting objects: 100% (4/4), done.\u001b[K\n",
            "remote: Compressing objects: 100% (4/4), done.\u001b[K\n",
            "remote: Total 498 (delta 0), reused 0 (delta 0), pack-reused 494\u001b[K\n",
            "Receiving objects: 100% (498/498), 65.60 MiB | 21.79 MiB/s, done.\n",
            "Resolving deltas: 100% (236/236), done.\n"
          ],
          "name": "stdout"
        }
      ]
    },
    {
      "cell_type": "code",
      "metadata": {
        "id": "udmaKZdtFIuv",
        "colab": {
          "base_uri": "https://localhost:8080/"
        },
        "outputId": "39fb4317-3f51-4edc-ef39-9f81f344fe19"
      },
      "source": [
        "%cd AM741-PDElearning/PDEFIND/"
      ],
      "execution_count": null,
      "outputs": [
        {
          "output_type": "stream",
          "text": [
            "/content/AM741-PDElearning/PDEFIND\n"
          ],
          "name": "stdout"
        }
      ]
    },
    {
      "cell_type": "code",
      "metadata": {
        "scrolled": true,
        "id": "okFz6rqIEurw"
      },
      "source": [
        "import numpy as np\n",
        "import scipy.optimize\n",
        "from PDE_FIND_IP import *"
      ],
      "execution_count": null,
      "outputs": []
    },
    {
      "cell_type": "code",
      "metadata": {
        "scrolled": false,
        "id": "RKOzy-B2Eurx"
      },
      "source": [
        "#each entry is the parameter estimators from PDE-FIND with pruning\n",
        "x0_vec = [[.0098,0,.016,9.29,-9.29,0],[0,0,.024,9.39,-9.4,0],[.0098,0,.016,9.28,-9.31,0]\n",
        "          ,[0,0,.024,9.14,-8.97,0],[0,0,.034,8.55,-7.92,0],[0,0,.04,6.72,-5.41,.286]]\n",
        "\n",
        "#optimized vectors\n",
        "X_opt = np.zeros((len(x0_vec),len(x0_vec[0])))\n",
        "\n",
        "#noise levels under consideration\n",
        "sigma_str_vec = ('00','01','05','10','25','50')"
      ],
      "execution_count": null,
      "outputs": []
    },
    {
      "cell_type": "code",
      "metadata": {
        "id": "JwL31XufI61K"
      },
      "source": [
        ""
      ],
      "execution_count": null,
      "outputs": []
    },
    {
      "cell_type": "code",
      "metadata": {
        "id": "hEuB-UppEurx",
        "colab": {
          "base_uri": "https://localhost:8080/"
        },
        "outputId": "d8ddb75a-2250-4e5b-c06a-3ed6ad6549ed"
      },
      "source": [
        "for i in np.arange(len(sigma_str_vec)):\n",
        "    #minimize cost function\n",
        "    xopt = scipy.optimize.fmin(func=fisher_nonlin_cost, x0=x0_vec[i],args=(sigma_str_vec[i],),xtol=1e-6,maxiter=1e6,maxfun=1e6,disp=True)\n",
        "    print \"Optimization for sigma = \" + sigma_str_vec[i] + \" led to \" + str(xopt)\n",
        "    X_opt[i,:] = xopt\n",
        "    data = {}\n",
        "    data['xopt'] = X_opt\n",
        "    np.save('nonlinear_fisher_IP',data)\n"
      ],
      "execution_count": null,
      "outputs": [
        {
          "output_type": "stream",
          "text": [
            "Optimization terminated successfully.\n",
            "         Current function value: 0.833556\n",
            "         Iterations: 1238\n",
            "         Function evaluations: 1963\n",
            "Optimization for sigma = 00 led to [ 2.31074140e-12  1.66438045e-02  2.14892355e-02  1.00045076e+01\n",
            " -1.00419239e+01 -1.59798259e-08]\n"
          ],
          "name": "stdout"
        },
        {
          "output_type": "stream",
          "text": [
            "/usr/local/lib/python2.7/dist-packages/scipy/integrate/_ode.py:1177: UserWarning: dopri5: step size becomes too small\n",
            "  self.messages.get(istate, unexpected_istate_msg)))\n"
          ],
          "name": "stderr"
        },
        {
          "output_type": "stream",
          "text": [
            "Optimization terminated successfully.\n",
            "         Current function value: 3.081103\n",
            "         Iterations: 1161\n",
            "         Function evaluations: 1804\n",
            "Optimization for sigma = 01 led to [ 1.97134689e-05  2.14826513e-02  1.89205647e-02  9.99463801e+00\n",
            " -9.97468873e+00 -1.01125507e-09]\n",
            "Optimization terminated successfully.\n",
            "         Current function value: 55.860948\n",
            "         Iterations: 612\n",
            "         Function evaluations: 1009\n",
            "Optimization for sigma = 05 led to [ 1.73729643e-04  2.10882278e-02  1.97735239e-02  9.95029346e+00\n",
            " -9.90143277e+00 -2.26268948e-07]\n",
            "Optimization terminated successfully.\n",
            "         Current function value: 223.750808\n",
            "         Iterations: 427\n",
            "         Function evaluations: 714\n",
            "Optimization for sigma = 10 led to [ 2.76676056e-04  3.22520785e-02  9.41051651e-03  9.91445284e+00\n",
            " -9.57596484e+00  4.87747132e-08]\n",
            "Optimization terminated successfully.\n",
            "         Current function value: 93890.778663\n",
            "         Iterations: 684\n",
            "         Function evaluations: 1217\n",
            "Optimization for sigma = 25 led to [ 3.25965994e-03 -6.40151984e-04  3.28951381e-02  1.02751733e+01\n",
            " -7.30307561e+00 -1.11161994e-04]\n",
            "Optimization terminated successfully.\n",
            "         Current function value: 4761.246183\n",
            "         Iterations: 860\n",
            "         Function evaluations: 1421\n",
            "Optimization for sigma = 50 led to [ 2.61017861e-03  3.87500640e-03  3.99084317e-02  9.81464067e+00\n",
            " -7.96155731e+00  4.57384783e-06]\n"
          ],
          "name": "stdout"
        }
      ]
    },
    {
      "cell_type": "code",
      "metadata": {
        "id": "_fsABc6YOSeb"
      },
      "source": [
        ""
      ],
      "execution_count": null,
      "outputs": []
    }
  ]
}